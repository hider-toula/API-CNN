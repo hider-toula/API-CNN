{
 "cells": [
  {
   "cell_type": "code",
   "execution_count": 1,
   "metadata": {},
   "outputs": [],
   "source": [
    "import numpy as np\n",
    "\n",
    "from nn.module import Linear,TanH,Sigmoide,Softmax\n",
    "from nn.loss import CElogSoftMax,MSELoss,CELoss, BCELoss\n",
    "from tools.nntools import Sequentiel, Optim\n",
    "from tools.basic import load_usps, show_image,draw_pred,draw_construction, draw_noise,add_noise\n",
    "from sklearn.model_selection import train_test_split\n",
    "import matplotlib.pyplot as plt\n",
    "from matplotlib.lines import Line2D\n",
    "from sklearn.cluster import KMeans\n",
    "from sklearn.manifold import TSNE\n",
    "from sklearn import metrics\n",
    "from keras.datasets import mnist"
   ]
  },
  {
   "cell_type": "code",
   "execution_count": 2,
   "metadata": {},
   "outputs": [],
   "source": [
    "def onehot(x): # single digit\n",
    "    out = [0] * 10\n",
    "    out[x] = 1\n",
    "    return out\n"
   ]
  },
  {
   "cell_type": "code",
   "execution_count": 3,
   "metadata": {},
   "outputs": [],
   "source": [
    "def draw_TSNE(data,labels): # inspired by sklearn demo.\n",
    "    \n",
    "    reduced_data = TSNE().fit_transform(data).astype('double')\n",
    "    kmeans = KMeans(init=\"k-means++\", n_clusters=10, n_init=4)\n",
    "    kmeans.fit(reduced_data)\n",
    "    \n",
    "    h = .02\n",
    "\n",
    "    x_min, x_max = reduced_data[:, 0].min() - 1, reduced_data[:, 0].max() + 1\n",
    "    y_min, y_max = reduced_data[:, 1].min() - 1, reduced_data[:, 1].max() + 1\n",
    "    xx, yy = np.meshgrid(np.arange(x_min, x_max, h), np.arange(y_min, y_max, h))\n",
    "    \n",
    "    Z = kmeans.predict(np.c_[xx.ravel(), yy.ravel()])\n",
    "    Z = Z.reshape(xx.shape)\n",
    "    \n",
    "    plt.figure()\n",
    "    plt.clf()\n",
    "    plt.imshow(Z, interpolation=\"nearest\",\n",
    "               extent=(xx.min(), xx.max(), yy.min(), yy.max()),\n",
    "               cmap='cool', aspect=\"auto\", origin=\"lower\")\n",
    "\n",
    "    plt.scatter(reduced_data[:, 0], reduced_data[:, 1],s=10, c=labels)\n",
    "    plt.title(\"TSNE representation 10 clusters\")\n",
    "    plt.show()"
   ]
  },
  {
   "cell_type": "code",
   "execution_count": 4,
   "metadata": {},
   "outputs": [],
   "source": [
    "def clustering(data, labels):\n",
    "\n",
    "    kmeans = KMeans(init=\"k-means++\", n_clusters=10, n_init=4,random_state=0)\n",
    "    pred = kmeans.fit_predict(data)\n",
    "    \n",
    "    clustering_metrics = [\\\n",
    "        metrics.homogeneity_score,\\\n",
    "        metrics.completeness_score,\\\n",
    "        metrics.v_measure_score,\\\n",
    "        metrics.adjusted_rand_score,\\\n",
    "        metrics.adjusted_mutual_info_score,\n",
    "    ]\n",
    "\n",
    "    scores = [m(labels,pred) for m in clustering_metrics]\n",
    "    \n",
    "    print(\"homogeneity_score :\", scores[0])\n",
    "    print(\"completeness_score :\", scores[1])\n",
    "    print(\"v_measure_score :\", scores[2])\n",
    "    print(\"adjusted_rand_score :\", scores[3])\n",
    "    print(\"adjusted_mutual_info_score :\", scores[4])\n",
    "    \n",
    "    return scores"
   ]
  },
  {
   "cell_type": "code",
   "execution_count": 5,
   "metadata": {},
   "outputs": [],
   "source": [
    "(X_train, y_train), (X_test, y_test) = mnist.load_data()\n",
    "\n",
    "# building the input vector from the 28x28 pixels\n",
    "X_train = X_train.reshape(60000, 784)\n",
    "X_test = X_test.reshape(10000, 784)\n",
    "X_train = X_train.astype('float32')\n",
    "X_test = X_test.astype('float32')\n",
    "\n",
    "# normalizing the data to help with the training\n",
    "X_train /= 255\n",
    "X_test /= 255\n",
    "\n",
    "\n",
    "X_train = X_train[:5000]\n",
    "y_train = y_train[:5000]\n",
    "X_test = X_train[:1000]\n",
    "y_test = y_train[:1000]\n",
    "\n",
    "\n",
    "p = 0.8\n",
    "X_train_noise = add_noise(X_train,p=p)\n",
    "X_test_noise = add_noise(X_test,p=p) \n",
    "\n",
    "type=2\n"
   ]
  },
  {
   "cell_type": "code",
   "execution_count": 6,
   "metadata": {},
   "outputs": [
    {
     "data": {
      "image/png": "[encoded data removed]",
      "text/plain": [
       "<Figure size 432x288 with 1 Axes>"
      ]
     },
     "metadata": {
      "needs_background": "light"
     },
     "output_type": "display_data"
    }
   ],
   "source": [
    "n = X_train.shape[1]\n",
    "hidden = 100\n",
    "d = 144\n",
    "\n",
    "\n",
    "iteration = 100\n",
    "gradient_step = 1e-4\n",
    "batchsize = 100\n",
    "\n",
    "\n",
    "lin_layer = Linear(n, hidden)\n",
    "lin_layer2 = Linear(hidden, d)\n",
    "lin_layer3 = Linear(d, hidden)\n",
    "lin_layer3._params = lin_layer2._params.T\n",
    "lin_layer4 = Linear(hidden, n)\n",
    "lin_layer4._params = lin_layer._params.T\n",
    "\n",
    "loss = BCELoss()\n",
    "\n",
    "Encodeur = [lin_layer,TanH(),lin_layer2,TanH()]\n",
    "Decodeur = [lin_layer3,TanH(),lin_layer4,Sigmoide()]\n",
    "\n",
    "net = Sequentiel(Encodeur + Decodeur)\n",
    "\n",
    "opt = Optim(net,loss,eps=gradient_step)\n",
    "mean, std = opt.SGD(X_train,X_train,batchsize,iteration,earlystop=50)\n",
    "plt.figure()\n",
    "plt.plot(mean)\n",
    "plt.plot(std)\n",
    "plt.legend(('Mean', 'std'))\n",
    "plt.show()\n"
   ]
  },
  {
   "cell_type": "code",
   "execution_count": 7,
   "metadata": {},
   "outputs": [],
   "source": [
    "reconstructed = opt._net.predict(X_test_noise)"
   ]
  },
  {
   "cell_type": "code",
   "execution_count": 8,
   "metadata": {},
   "outputs": [
    {
     "data": {
      "image/png": "[encoded data removed]",
      "text/plain": [
       "<Figure size 432x288 with 1 Axes>"
      ]
     },
     "metadata": {
      "needs_background": "light"
     },
     "output_type": "display_data"
    },
    {
     "name": "stdout",
     "output_type": "stream",
     "text": [
      "accuracy :  0.828\n"
     ]
    }
   ],
   "source": [
    "y_train = np.asarray([onehot(x) for x in y_train])\n",
    "\n",
    "type=2\n",
    "\n",
    "n = X_train.shape[1]\n",
    "hidden1 = 128\n",
    "hidden2 = 64\n",
    "d = 10\n",
    "\n",
    "\n",
    "iteration = 100\n",
    "gradient_step = 1e-4\n",
    "batchsize = 100\n",
    "\n",
    "def label_func(x):\n",
    "    return np.argmax(x,axis=1)\n",
    "\n",
    "lin_layer = Linear(n, hidden1,type=type)\n",
    "lin_layer2 = Linear(hidden1, hidden2,type=type)\n",
    "lin_layer3 = Linear(hidden2, d,type=type)\n",
    "act_softmax = Softmax()\n",
    "act_tan = TanH()\n",
    "act_tan2 = TanH()\n",
    "loss = CElogSoftMax()\n",
    "\n",
    "\n",
    "\n",
    "net = Sequentiel([lin_layer,act_tan,lin_layer2,act_tan,lin_layer3],labels=label_func)\n",
    "\n",
    "opt = Optim(net,loss,eps=gradient_step)\n",
    "mean, std = opt.SGD(X_train,y_train,batchsize,iteration,earlystop=50)\n",
    "plt.figure()\n",
    "plt.plot(mean)\n",
    "plt.plot(std)\n",
    "plt.legend(('Mean', 'std'))\n",
    "plt.show()\n",
    "\n",
    "\n",
    "print(\"accuracy : \",opt.score(reconstructed,y_test))"
   ]
  },
  {
   "cell_type": "code",
   "execution_count": null,
   "metadata": {},
   "outputs": [],
   "source": []
  }
 ],
 "metadata": {
  "interpreter": {
   "hash": "57baa5815c940fdaff4d14510622de9616cae602444507ba5d0b6727c008cbd6"
  },
  "kernelspec": {
   "display_name": "Python 3.7.8 64-bit",
   "name": "python3"
  },
  "language_info": {
   "codemirror_mode": {
    "name": "ipython",
    "version": 3
   },
   "file_extension": ".py",
   "mimetype": "text/x-python",
   "name": "python",
   "nbconvert_exporter": "python",
   "pygments_lexer": "ipython3",
   "version": "3.7.8"
  },
  "orig_nbformat": 4
 },
 "nbformat": 4,
 "nbformat_minor": 2
}
